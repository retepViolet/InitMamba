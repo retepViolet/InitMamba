{
 "cells": [
  {
   "cell_type": "markdown",
   "metadata": {},
   "source": [
    "# Head"
   ]
  },
  {
   "cell_type": "code",
   "execution_count": null,
   "metadata": {
    "id": "PxjGiug1DmSI"
   },
   "outputs": [],
   "source": [
    "!pip install mambapy"
   ]
  },
  {
   "cell_type": "code",
   "execution_count": 2,
   "metadata": {
    "colab": {
     "base_uri": "https://localhost:8080/"
    },
    "executionInfo": {
     "elapsed": 3024,
     "status": "ok",
     "timestamp": 1734936531480,
     "user": {
      "displayName": "EN WEI",
      "userId": "03929691894706464420"
     },
     "user_tz": -480
    },
    "id": "pEzrz04BDK03",
    "outputId": "12af59dc-1304-4fd1-a45f-650781252ca8"
   },
   "outputs": [],
   "source": [
    "import torch, transformers, importlib, InitMamba\n",
    "from transformers import MambaConfig, MambaForCausalLM, AutoTokenizer"
   ]
  },
  {
   "cell_type": "markdown",
   "metadata": {},
   "source": [
    "# Lab"
   ]
  },
  {
   "cell_type": "code",
   "execution_count": 23,
   "metadata": {},
   "outputs": [],
   "source": [
    "tokenizer = AutoTokenizer.from_pretrained(\"state-spaces/mamba-130m-hf\")\n",
    "input_ids = tokenizer(\"Today is Sunday.\", return_tensors=\"pt\")[\"input_ids\"] #.to('cuda')"
   ]
  },
  {
   "cell_type": "code",
   "execution_count": 27,
   "metadata": {},
   "outputs": [],
   "source": [
    "importlib.reload(InitMamba)\n",
    "import InitMamba\n",
    "\n",
    "config = MambaConfig.from_pretrained(\"state-spaces/mamba-130m-hf\")\n",
    "config.use_mambapy = True\n",
    "model1 = InitMamba.MambaForCausalLM.from_pretrained(\"state-spaces/mamba-130m-hf\", config=config) #.to('cuda')\n",
    "# model1.train()\n",
    "\n",
    "res1 = model1(input_ids, output_ssm_last_states = True)\n",
    "ssm_last_states = res1.ssm_last_states"
   ]
  },
  {
   "cell_type": "code",
   "execution_count": null,
   "metadata": {},
   "outputs": [
    {
     "name": "stdout",
     "output_type": "stream",
     "text": [
      "[', the,\\n']\n",
      "[' is Sunday,\\n']\n"
     ]
    }
   ],
   "source": [
    "# Model without initial SSM states gives random results\n",
    "print(tokenizer.batch_decode(res1.logits.argmax(dim=-1)))\n",
    "\n",
    "# Model with initial SSM states gives \"Sunday\"\n",
    "res2 = model1(input_ids, inputs_ssm_states = ssm_last_states)\n",
    "print(tokenizer.batch_decode(res2.logits.argmax(dim=-1)))"
   ]
  },
  {
   "cell_type": "markdown",
   "metadata": {},
   "source": [
    "# Check same"
   ]
  },
  {
   "cell_type": "code",
   "execution_count": null,
   "metadata": {},
   "outputs": [],
   "source": [
    "model2 = MambaForCausalLM.from_pretrained(\"state-spaces/mamba-130m-hf\", config=config)\n",
    "\n",
    "model1.eval()\n",
    "model2.eval()\n",
    "\n",
    "print((model2(input_ids).logits - model1(input_ids).logits).abs().sum())"
   ]
  }
 ],
 "metadata": {
  "accelerator": "GPU",
  "colab": {
   "gpuType": "T4",
   "provenance": []
  },
  "kernelspec": {
   "display_name": "Python 3",
   "name": "python3"
  },
  "language_info": {
   "codemirror_mode": {
    "name": "ipython",
    "version": 3
   },
   "file_extension": ".py",
   "mimetype": "text/x-python",
   "name": "python",
   "nbconvert_exporter": "python",
   "pygments_lexer": "ipython3",
   "version": "3.11.1"
  }
 },
 "nbformat": 4,
 "nbformat_minor": 0
}
